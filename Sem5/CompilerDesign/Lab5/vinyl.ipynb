{
 "cells": [
  {
   "cell_type": "code",
   "execution_count": 8,
   "metadata": {},
   "outputs": [],
   "source": [
    "list_word_t =[]\n",
    "with open(\"ex.txt\") as file:\n",
    "    for item in file:\n",
    "        item = item.replace('\\n',\"\")\n",
    "        list_word_t.append(item)\n",
    "new = []\n",
    "for word in list_word_t:\n",
    "    sub_str = \" \"\n",
    "    if sub_str in word:\n",
    "        word = word.split(\" \")\n",
    "        for w in word:\n",
    "            if w != '':\n",
    "                new.append(w)\n",
    "    else:\n",
    "        new.append(word)\n",
    "\n",
    "list_word_t =[]\n",
    "msgstr = \"\"\n",
    "with open(\"ex.txt\") as file:\n",
    "    for item in file:\n",
    "        item = item.replace('\\n',\" \")\n",
    "        msgstr = msgstr+item\n",
    "\n",
    "#Store all neccesary information \n",
    "\n",
    "\n",
    "header_files =[\"#include<stdio.h>\",\"#include<stdlib.h>\",\"#include<string.h>\"]\n",
    "keywords = [\"auto\",\"break\",\"case\",\"char\" ,\"const\",\n",
    "                            \"continue\",\"default\",\"do\",\"else\"\n",
    "                            \"enum\",\"extern\" ,\"for\",\"goto\",\"if\",\n",
    "                            \"long\",\"register\",\"return\",\n",
    "                            \"short\"\t,\"signed\",\"sizeof\",\"static\",\n",
    "                            \"struct\",\"switch\",\"typedef\",\"union\",\n",
    "                            \"unsigned\",\"void\",\"volatile\",\"while\", \"main()\"]\n",
    "operators = ['+','-','*','/','%','^',\"&&\",\"||\"]\n",
    "otherSymb = [',',';','{',\"}\"]\n",
    "data_types = [\"int\",\"float\",\"double\",\"char\",\"long\"]"
   ]
  },
  {
   "cell_type": "code",
   "execution_count": 9,
   "metadata": {},
   "outputs": [],
   "source": [
    "li = []\n",
    "msgs = msgstr.split(\" \")\n",
    "for m in msgs:\n",
    "    if m != '' and m!=' ':\n",
    "        li.append(m)\n",
    "dictSymbolTable ={}"
   ]
  },
  {
   "cell_type": "raw",
   "metadata": {},
   "source": [
    "lis_len = len(li)\n",
    "print(lis_len)\n",
    "word_count = 0\n",
    "keysInDict = [] \n",
    "for i in range(lis_len):\n",
    "    #if li[i] in header_files or li[i] in keywords:\n",
    "    #    print(\"Either headerfile or keyword\")\n",
    "    if li[i] in data_types:\n",
    "        #It has read a data_type\n",
    "        #Now check what it reads in the next word\n",
    "        next_word = li[i+1]\n",
    "        #Check if next word is a keyword or operator\n",
    "        if next_word not in keywords:\n",
    "            curr = li[i]\n",
    "            if word_count == 0:\n",
    "                list2 = []\n",
    "                list2.append(curr)\n",
    "                dictSymbolTable[next_word] = list2\n",
    "                keysInDict.append(next_word)\n",
    "            print(next_word)\n",
    "            #Looping till u find a ;\n",
    "            while(next_word != ';'):\n",
    "                i=i+1\n",
    "                next_word= li[i+1]\n",
    "                print(next_word)\n",
    "    if li[i] in keysInDict:\n",
    "        var = li[i]\n",
    "        next = li[i+1]\n",
    "        if(next == '='):\n",
    "            i=i+1\n",
    "            nextval = li[i+1]\n",
    "            print(var)\n",
    "            list  = []\n",
    "            l = dictSymbolTable[var]\n",
    "            list.append(l)\n",
    "            list.append(nextval)\n",
    "            print(list)\n",
    "            dictSymbolTable[var]=list\n",
    "            print(nextval)"
   ]
  },
  {
   "cell_type": "raw",
   "metadata": {},
   "source": [
    "lis_len = len(li)\n",
    "print(lis_len)\n",
    "word_count = 0\n",
    "keysInDict = [] \n",
    "for i in range(lis_len):\n",
    "    #if li[i] in header_files or li[i] in keywords:\n",
    "    #    print(\"Either headerfile or keyword\")\n",
    "    if li[i] in data_types:\n",
    "        #It has read a data_type\n",
    "        #Now check what it reads in the next word\n",
    "        next_word = li[i+1]\n",
    "        #Check if next word is a keyword or operator\n",
    "        if next_word not in keywords:\n",
    "            curr = li[i]\n",
    "            if word_count == 0:\n",
    "                list2 = []\n",
    "                list2.append(curr)\n",
    "                dictSymbolTable[next_word] = list2\n",
    "                keysInDict.append(next_word)\n",
    "            print(next_word)\n",
    "            #Looping till u find a ;\n",
    "            while(next_word != ';'):\n",
    "                i=i+1\n",
    "                next_word= li[i+1]\n",
    "                print(next_word)\n",
    "    if li[i] in keysInDict:\n",
    "        var = li[i]\n",
    "        next = li[i+1]\n",
    "        if(next == '='):\n",
    "            i=i+1\n",
    "            nextval = li[i+1]\n",
    "            print(var)\n",
    "            list  = []\n",
    "            l = dictSymbolTable[var]\n",
    "            list.append(l)\n",
    "            list.append(nextval)\n",
    "            print(list)\n",
    "            dictSymbolTable[var]=list\n",
    "            print(nextval)"
   ]
  },
  {
   "cell_type": "code",
   "execution_count": 12,
   "metadata": {},
   "outputs": [
    {
     "name": "stdout",
     "output_type": "stream",
     "text": [
      "{'a': ['int', '3']}\n"
     ]
    }
   ],
   "source": [
    "print(dictSymbolTable)"
   ]
  },
  {
   "cell_type": "code",
   "execution_count": null,
   "metadata": {},
   "outputs": [],
   "source": []
  }
 ],
 "metadata": {
  "kernelspec": {
   "display_name": "Python 3.9.2 64-bit",
   "language": "python",
   "name": "python3"
  },
  "language_info": {
   "codemirror_mode": {
    "name": "ipython",
    "version": 3
   },
   "file_extension": ".py",
   "mimetype": "text/x-python",
   "name": "python",
   "nbconvert_exporter": "python",
   "pygments_lexer": "ipython3",
   "version": "3.9.2"
  },
  "orig_nbformat": 4,
  "vscode": {
   "interpreter": {
    "hash": "8c93b56f12893a73f3fb26b619faf35eb67f0f4410719b74190040acf104b72e"
   }
  }
 },
 "nbformat": 4,
 "nbformat_minor": 2
}
