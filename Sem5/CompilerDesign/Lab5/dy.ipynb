{
 "cells": [
  {
   "cell_type": "code",
   "execution_count": 127,
   "metadata": {},
   "outputs": [],
   "source": [
    "list_word_t =[]\n",
    "with open(\"ex.txt\") as file:\n",
    "    for item in file:\n",
    "        item = item.replace('\\n',\"\")\n",
    "        list_word_t.append(item)"
   ]
  },
  {
   "cell_type": "code",
   "execution_count": 128,
   "metadata": {},
   "outputs": [
    {
     "name": "stdout",
     "output_type": "stream",
     "text": [
      "['#include<stdio.h>', 'int main()', '{', '    int a ;', '    a = 3 ;', '}']\n"
     ]
    }
   ],
   "source": [
    "print(list_word_t)"
   ]
  },
  {
   "cell_type": "code",
   "execution_count": 129,
   "metadata": {},
   "outputs": [
    {
     "name": "stdout",
     "output_type": "stream",
     "text": [
      "['int', 'main()']\n",
      "['', '', '', '', 'int', 'a', ';']\n",
      "['', '', '', '', 'a', '=', '3', ';']\n"
     ]
    }
   ],
   "source": [
    "new = []\n",
    "for word in list_word_t:\n",
    "    sub_str = \" \"\n",
    "    if sub_str in word:\n",
    "        word = word.split(\" \")\n",
    "        print(word)\n",
    "        for w in word:\n",
    "            if w != '':\n",
    "                new.append(w)\n",
    "    else:\n",
    "        new.append(word)"
   ]
  },
  {
   "cell_type": "code",
   "execution_count": 130,
   "metadata": {},
   "outputs": [
    {
     "name": "stdout",
     "output_type": "stream",
     "text": [
      "['#include<stdio.h>', 'int', 'main()', '{', 'int', 'a', ';', 'a', '=', '3', ';', '}']\n"
     ]
    }
   ],
   "source": [
    "print(new)"
   ]
  },
  {
   "cell_type": "code",
   "execution_count": 131,
   "metadata": {},
   "outputs": [],
   "source": [
    "list_word_t =[]\n",
    "msgstr = \"\"\n",
    "with open(\"ex.txt\") as file:\n",
    "    for item in file:\n",
    "        item = item.replace('\\n',\" \")\n",
    "        msgstr = msgstr+item\n"
   ]
  },
  {
   "cell_type": "code",
   "execution_count": 132,
   "metadata": {},
   "outputs": [],
   "source": [
    "#Store all neccesary information \n",
    "\n",
    "\n",
    "header_files =[\"#include<stdio.h>\",\"#include<stdlib.h>\",\"#include<string.h>\"]\n",
    "keywords = [\"auto\",\"break\",\"case\",\"char\" ,\"const\",\n",
    "                            \"continue\",\"default\",\"do\",\"else\"\n",
    "                            \"enum\",\"extern\" ,\"for\",\"goto\",\"if\",\n",
    "                            \"long\",\"register\",\"return\",\n",
    "                            \"short\"\t,\"signed\",\"sizeof\",\"static\",\n",
    "                            \"struct\",\"switch\",\"typedef\",\"union\",\n",
    "                            \"unsigned\",\"void\",\"volatile\",\"while\", \"main()\"]\n",
    "operators = ['+','-','*','/','%','^',\"&&\",\"||\"]\n",
    "otherSymb = [',',';','{',\"}\"]\n",
    "data_types = [\"int\",\"float\",\"double\",\"char\",\"long\"]"
   ]
  },
  {
   "cell_type": "code",
   "execution_count": 133,
   "metadata": {},
   "outputs": [],
   "source": [
    "li = []\n",
    "msgs = msgstr.split(\" \")\n",
    "for m in msgs:\n",
    "    if m != '' and m!=' ':\n",
    "        li.append(m)\n",
    "\n",
    "\n"
   ]
  },
  {
   "cell_type": "code",
   "execution_count": 134,
   "metadata": {},
   "outputs": [
    {
     "name": "stdout",
     "output_type": "stream",
     "text": [
      "['#include<stdio.h>', 'int', 'main()', '{', 'int', 'a', ';', 'a', '=', '3', ';', '}']\n"
     ]
    }
   ],
   "source": [
    "print(li)"
   ]
  },
  {
   "cell_type": "code",
   "execution_count": 135,
   "metadata": {},
   "outputs": [
    {
     "name": "stdout",
     "output_type": "stream",
     "text": [
      "<class 'dict'>\n"
     ]
    }
   ],
   "source": [
    "dictSymbolTable ={}\n",
    "print(type(dictSymbolTable))"
   ]
  },
  {
   "cell_type": "code",
   "execution_count": 138,
   "metadata": {},
   "outputs": [
    {
     "name": "stdout",
     "output_type": "stream",
     "text": [
      "12\n",
      "Either headerfile or keyword\n",
      "int\n",
      "Either headerfile or keyword\n",
      "int\n",
      "a\n",
      ";\n",
      "a\n",
      "['int', '3']\n",
      "3\n"
     ]
    }
   ],
   "source": [
    "lis_len = len(li)\n",
    "print(lis_len)\n",
    "word_count = 0\n",
    "keysInDict = [] \n",
    "for i in range(lis_len):\n",
    "    if li[i] in header_files or li[i] in keywords:\n",
    "        print(\"Either headerfile or keyword\")\n",
    "    elif li[i] in data_types:\n",
    "        #It has read a data_type \n",
    "        # It has read int\n",
    "        print(li[i])\n",
    "        #Now check what it reads in the next word\n",
    "        next_word = li[i+1]\n",
    "        #Check if next word is a keyword or operator\n",
    "        if next_word not in keywords:\n",
    "            if word_count == 0:\n",
    "                list2 = []\n",
    "                list2.append(li[i])\n",
    "                dictSymbolTable[next_word] = li[i]\n",
    "                keysInDict.append(next_word)\n",
    "            print(next_word)\n",
    "            i = i+1\n",
    "            #Looping till u find a ;\n",
    "            while(next_word != ';'):\n",
    "                next_word= li[i+1]\n",
    "                print(next_word)\n",
    "    if li[i] in keysInDict:\n",
    "        var = li[i]\n",
    "        next = li[i+1]\n",
    "        if(next == '='):\n",
    "            i=i+1\n",
    "            nextval = li[i+1]\n",
    "            print(var)\n",
    "            list  = []\n",
    "            l = dictSymbolTable[var]\n",
    "            list.append(l)\n",
    "            list.append(nextval)\n",
    "            print(list)\n",
    "            dictSymbolTable[var]=list\n",
    "            print(nextval)\n",
    "        "
   ]
  },
  {
   "cell_type": "code",
   "execution_count": 139,
   "metadata": {},
   "outputs": [
    {
     "name": "stdout",
     "output_type": "stream",
     "text": [
      "{'a': ['int', '3']}\n",
      "['a']\n"
     ]
    }
   ],
   "source": [
    "print(dictSymbolTable)\n",
    "print(keysInDict)"
   ]
  },
  {
   "cell_type": "code",
   "execution_count": 118,
   "metadata": {},
   "outputs": [
    {
     "name": "stdout",
     "output_type": "stream",
     "text": [
      "1\n"
     ]
    },
    {
     "data": {
      "text/plain": [
       "'int'"
      ]
     },
     "execution_count": 118,
     "metadata": {},
     "output_type": "execute_result"
    }
   ],
   "source": [
    "print(len(var))\n",
    "dictSymbolTable[var]"
   ]
  },
  {
   "cell_type": "code",
   "execution_count": null,
   "metadata": {},
   "outputs": [],
   "source": []
  }
 ],
 "metadata": {
  "kernelspec": {
   "display_name": "Python 3.8.8 ('base')",
   "language": "python",
   "name": "python3"
  },
  "language_info": {
   "codemirror_mode": {
    "name": "ipython",
    "version": 3
   },
   "file_extension": ".py",
   "mimetype": "text/x-python",
   "name": "python",
   "nbconvert_exporter": "python",
   "pygments_lexer": "ipython3",
   "version": "3.8.8"
  },
  "orig_nbformat": 4,
  "vscode": {
   "interpreter": {
    "hash": "2f3eb0242237f7482054201cdc0254386ced23c6e95d6945cb90bc9b5b8e1362"
   }
  }
 },
 "nbformat": 4,
 "nbformat_minor": 2
}
