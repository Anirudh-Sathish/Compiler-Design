{
 "cells": [
  {
   "cell_type": "code",
   "execution_count": 73,
   "metadata": {},
   "outputs": [],
   "source": [
    "list_word_t =[]\n",
    "with open(\"ex.txt\") as file:\n",
    "    for item in file:\n",
    "        item = item.replace('\\n',\"\")\n",
    "        list_word_t.append(item)\n",
    "new = []\n",
    "for word in list_word_t:\n",
    "    sub_str = \" \"\n",
    "    if sub_str in word:\n",
    "        word = word.split(\" \")\n",
    "        for w in word:\n",
    "            if w != '':\n",
    "                new.append(w)\n",
    "    else:\n",
    "        new.append(word)\n",
    "\n",
    "list_word_t =[]\n",
    "msgstr = \"\"\n",
    "with open(\"ex.txt\") as file:\n",
    "    for item in file:\n",
    "        item = item.replace('\\n',\" \")\n",
    "        msgstr = msgstr+item\n",
    "\n",
    "#Store all neccesary information \n",
    "\n",
    "\n",
    "header_files =[\"#include<stdio.h>\",\"#include<stdlib.h>\",\"#include<string.h>\"]\n",
    "keywords = [\"auto\",\"break\",\"case\",\"char\" ,\"const\",\n",
    "                            \"continue\",\"default\",\"do\",\"else\"\n",
    "                            \"enum\",\"extern\" ,\"for\",\"goto\",\"if\",\n",
    "                            \"long\",\"register\",\"return\",\n",
    "                            \"short\"\t,\"signed\",\"sizeof\",\"static\",\n",
    "                            \"struct\",\"switch\",\"typedef\",\"union\",\n",
    "                            \"unsigned\",\"void\",\"volatile\",\"while\", \"main()\"]\n",
    "operators = ['+','-','*','/','%','^',\"&&\",\"||\"]\n",
    "otherSymb = [',',';','{',\"}\"]\n",
    "data_types = [\"int\",\"float\",\"double\",\"char\",\"long\"]"
   ]
  },
  {
   "cell_type": "code",
   "execution_count": 74,
   "metadata": {},
   "outputs": [],
   "source": [
    "li = []\n",
    "msgs = msgstr.split(\" \")\n",
    "for m in msgs:\n",
    "    if m != '' and m!=' ':\n",
    "        li.append(m)\n",
    "dictSymbolTable ={}\n",
    "dictSymbolCountTable = {}"
   ]
  },
  {
   "cell_type": "code",
   "execution_count": 75,
   "metadata": {},
   "outputs": [
    {
     "name": "stdout",
     "output_type": "stream",
     "text": [
      "Starting n word\n",
      "a\n",
      ",\n",
      "c\n",
      ";\n",
      "Starting n word\n",
      "b\n",
      ";\n"
     ]
    }
   ],
   "source": [
    "lis_len = len(li)\n",
    "word_count = 0\n",
    "keysInDict = [] \n",
    "\n",
    "\n",
    "#Deal with reassignment and single line assignment \n",
    "for i in range(lis_len):\n",
    "\n",
    "    if li[i] in data_types:\n",
    "        #It has read a data_type\n",
    "        #Now check what it reads in the next word\n",
    "        next_word = li[i+1]\n",
    "        #Check if next word is a keyword or operator\n",
    "        if next_word not in keywords:\n",
    "            curr = li[i]\n",
    "            list2 = []\n",
    "            list2.append(curr)\n",
    "            dictSymbolTable[next_word] = list2\n",
    "            keysInDict.append(next_word)\n",
    "\n",
    "            #Looping till u find a ;\n",
    "            i=i+1\n",
    "            while(next_word != ';'):\n",
    "                word_count = word_count+1\n",
    "                next_word= li[i+1]\n",
    "                print(next_word)\n",
    "                if next_word not in keywords:\n",
    "                    if next_word not in otherSymb:\n",
    "                        list2 = []\n",
    "                        list2.append(curr)\n",
    "                        dictSymbolTable[next_word] = list2\n",
    "                        keysInDict.append(next_word)\n",
    "                i=i+1\n",
    "\n",
    "\n",
    "    if li[i] in keysInDict:\n",
    "        var = li[i]\n",
    "        next = li[i+1]\n",
    "        if(next == '='):\n",
    "            i=i+1\n",
    "            nextval = li[i+1]\n",
    "            l = dictSymbolTable[var]\n",
    "            l.append(nextval)\n",
    "            dictSymbolTable[var]=l"
   ]
  },
  {
   "cell_type": "code",
   "execution_count": 76,
   "metadata": {},
   "outputs": [
    {
     "name": "stdout",
     "output_type": "stream",
     "text": [
      "{'a': ['int', '3', '5;'], 'c': ['int'], 'b': ['float', '10.0']}\n"
     ]
    }
   ],
   "source": [
    "print(dictSymbolTable)"
   ]
  },
  {
   "cell_type": "code",
   "execution_count": 77,
   "metadata": {},
   "outputs": [
    {
     "name": "stdout",
     "output_type": "stream",
     "text": [
      "a\n",
      "3\n",
      "c\n",
      "1\n",
      "b\n",
      "2\n"
     ]
    }
   ],
   "source": [
    "for dict in dictSymbolTable:\n",
    "    print(dict)\n",
    "    print(len(dictSymbolTable[dict]))"
   ]
  },
  {
   "cell_type": "code",
   "execution_count": null,
   "metadata": {},
   "outputs": [],
   "source": []
  }
 ],
 "metadata": {
  "kernelspec": {
   "display_name": "Python 3.8.8 ('base')",
   "language": "python",
   "name": "python3"
  },
  "language_info": {
   "codemirror_mode": {
    "name": "ipython",
    "version": 3
   },
   "file_extension": ".py",
   "mimetype": "text/x-python",
   "name": "python",
   "nbconvert_exporter": "python",
   "pygments_lexer": "ipython3",
   "version": "3.8.8"
  },
  "orig_nbformat": 4,
  "vscode": {
   "interpreter": {
    "hash": "2f3eb0242237f7482054201cdc0254386ced23c6e95d6945cb90bc9b5b8e1362"
   }
  }
 },
 "nbformat": 4,
 "nbformat_minor": 2
}
